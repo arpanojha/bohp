{
 "cells": [
  {
   "cell_type": "code",
   "execution_count": 67,
   "id": "d23a28e2",
   "metadata": {},
   "outputs": [],
   "source": [
    "import json\n",
    "import os"
   ]
  },
  {
   "cell_type": "markdown",
   "id": "2387d39f",
   "metadata": {},
   "source": [
    "### Make sure this file is in json folder. "
   ]
  },
  {
   "cell_type": "code",
   "execution_count": 68,
   "id": "6bd837a5",
   "metadata": {},
   "outputs": [],
   "source": [
    "fls = os.listdir('./')\n",
    "data_dict = {}\n",
    "k = len(fls)"
   ]
  },
  {
   "cell_type": "markdown",
   "id": "d79dbeea",
   "metadata": {},
   "source": [
    "### data is present in dictionary data_dict. This labels all the important interview data. \n",
    "#### First index contains high level information like interviewee \n",
    "#### Second index contains the interview in numerical order"
   ]
  },
  {
   "cell_type": "code",
   "execution_count": 69,
   "id": "1f1919fc",
   "metadata": {},
   "outputs": [],
   "source": [
    "for i in range(k):\n",
    "    if i not in data_dict.items():\n",
    "        data_dict[i] = {}\n",
    "    if 'json' in fls[i]:\n",
    "        with open(fls[i],encoding='utf8') as json_file:\n",
    "            #print(fls[1],json_file)\n",
    "            data = json.load(json_file)\n",
    "            len_data = len(data['items'][0]['annotations'][0]['items'])\n",
    "            #print(len_data)\n",
    "            for j in range(len_data):\n",
    "                data_dict[i][j] = data['items'][0]['annotations'][0]['items'][j]['body']['value']\n",
    "            "
   ]
  },
  {
   "cell_type": "markdown",
   "id": "a0558c67",
   "metadata": {},
   "source": [
    "# data cleaning proceeds below"
   ]
  },
  {
   "cell_type": "code",
   "execution_count": null,
   "id": "a2cc94a4",
   "metadata": {},
   "outputs": [],
   "source": []
  }
 ],
 "metadata": {
  "kernelspec": {
   "display_name": "Python 3",
   "language": "python",
   "name": "python3"
  },
  "language_info": {
   "codemirror_mode": {
    "name": "ipython",
    "version": 3
   },
   "file_extension": ".py",
   "mimetype": "text/x-python",
   "name": "python",
   "nbconvert_exporter": "python",
   "pygments_lexer": "ipython3",
   "version": "3.8.8"
  }
 },
 "nbformat": 4,
 "nbformat_minor": 5
}
