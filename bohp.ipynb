{
  "nbformat": 4,
  "nbformat_minor": 0,
  "metadata": {
    "colab": {
      "name": "bohp.ipynb",
      "provenance": [],
      "collapsed_sections": [],
      "authorship_tag": "ABX9TyPFYnDll1pXfF372k07TFZG",
      "include_colab_link": true
    },
    "kernelspec": {
      "name": "python3",
      "display_name": "Python 3"
    },
    "language_info": {
      "name": "python"
    }
  },
  "cells": [
    {
      "cell_type": "markdown",
      "metadata": {
        "id": "view-in-github",
        "colab_type": "text"
      },
      "source": [
        "<a href=\"https://colab.research.google.com/github/arpanojha/bohp/blob/main/bohp.ipynb\" target=\"_parent\"><img src=\"https://colab.research.google.com/assets/colab-badge.svg\" alt=\"Open In Colab\"/></a>"
      ]
    },
    {
      "cell_type": "code",
      "execution_count": null,
      "metadata": {
        "colab": {
          "base_uri": "https://localhost:8080/"
        },
        "id": "wOs8MiTpujvM",
        "outputId": "c6097f92-f4bc-4909-86c7-670488a90d31"
      },
      "outputs": [
        {
          "output_type": "stream",
          "name": "stdout",
          "text": [
            "      Last Name First Name          Full name                 Type  \\\n",
            "0          Able       Joan          Joan Able  multiple-respondent   \n",
            "1          Able     Walter        Walter Able  multiple-respondent   \n",
            "2        Abston    William     William Abston           one-to-one   \n",
            "3          Abts       Dede          Dede Abts           one-to-one   \n",
            "4         Adams   Brigette     Brigette Adams           one-to-one   \n",
            "...         ...        ...                ...                  ...   \n",
            "1014  Zimmerman       Enid     Enid Zimmerman           one-to-one   \n",
            "1015  Zimmerman    Richard  Richard Zimmerman           one-to-one   \n",
            "1016       Zoss     Bernie        Bernie Zoss           one-to-one   \n",
            "1017    Zougras  Elizabeth  Elizabeth Zougras           one-to-one   \n",
            "1018      Zwirn       Enid         Enid Zwirn           one-to-one   \n",
            "\n",
            "     In Online Collection? Downloaded?  \\\n",
            "0                      Yes         Yes   \n",
            "1         [With Joan Able]         Yes   \n",
            "2                      Yes         Yes   \n",
            "3                      Yes         Yes   \n",
            "4                      Yes         Yes   \n",
            "...                    ...         ...   \n",
            "1014                   Yes         Yes   \n",
            "1015                   Yes         Yes   \n",
            "1016                   Yes         Yes   \n",
            "1017                   Yes         Yes   \n",
            "1018                   Yes         Yes   \n",
            "\n",
            "                                                   Link             Notes  \\\n",
            "0     https://oralhistory.iu.edu/collections/123/col...  With Walter Able   \n",
            "1     https://oralhistory.iu.edu/collections/123/col...    With Joan Able   \n",
            "2     https://oralhistory.iu.edu/collections/123/col...               NaN   \n",
            "3     https://oralhistory.iu.edu/collections/123/col...               NaN   \n",
            "4     https://oralhistory.iu.edu/collections/123/col...               NaN   \n",
            "...                                                 ...               ...   \n",
            "1014                                                NaN               NaN   \n",
            "1015                                                NaN               NaN   \n",
            "1016                                                NaN               NaN   \n",
            "1017                                                NaN               NaN   \n",
            "1018                                                NaN               NaN   \n",
            "\n",
            "             Interviewer Interview Date  ... Unnamed: 46 Unnamed: 47  \\\n",
            "0     Akinbola, Benjamin     2014-06-12  ...         NaN         NaN   \n",
            "1     Akinbola, Benjamin     2014-06-12  ...         NaN         NaN   \n",
            "2       Townsend, Andrew     2018-01-24  ...         NaN         NaN   \n",
            "3     Truesdell, Barbara     2017-05-26  ...         NaN         NaN   \n",
            "4            Stepp, Alex     2017-09-25  ...         NaN         NaN   \n",
            "...                  ...            ...  ...         ...         ...   \n",
            "1014    Brownlee, Bonnie     2019-04-13  ...         NaN         NaN   \n",
            "1015  Truesdell, Barbara     2017-05-04  ...         NaN         NaN   \n",
            "1016  Swiatkowski, Rafal     2017-06-20  ...         NaN         NaN   \n",
            "1017     Morales, Alexis     2017-11-14  ...         NaN         NaN   \n",
            "1018      Towne, Stephen     2018-11-28  ...         NaN         NaN   \n",
            "\n",
            "      Unnamed: 48 Unnamed: 49 Unnamed: 50 Unnamed: 51 Unnamed: 52 Unnamed: 53  \\\n",
            "0             NaN         NaN         NaN         NaN         NaN         NaN   \n",
            "1             NaN         NaN         NaN         NaN         NaN         NaN   \n",
            "2             NaN         NaN         NaN         NaN         NaN         NaN   \n",
            "3             NaN         NaN         NaN         NaN         NaN         NaN   \n",
            "4             NaN         NaN         NaN         NaN         NaN         NaN   \n",
            "...           ...         ...         ...         ...         ...         ...   \n",
            "1014          NaN         NaN         NaN         NaN         NaN         NaN   \n",
            "1015          NaN         NaN         NaN         NaN         NaN         NaN   \n",
            "1016          NaN         NaN         NaN         NaN         NaN         NaN   \n",
            "1017          NaN         NaN         NaN         NaN         NaN         NaN   \n",
            "1018          NaN         NaN         NaN         NaN         NaN         NaN   \n",
            "\n",
            "     Unnamed: 54 Unnamed: 55  \n",
            "0            NaN         NaN  \n",
            "1            NaN         NaN  \n",
            "2            NaN         NaN  \n",
            "3            NaN         NaN  \n",
            "4            NaN         NaN  \n",
            "...          ...         ...  \n",
            "1014         NaN         NaN  \n",
            "1015         NaN         NaN  \n",
            "1016         NaN         NaN  \n",
            "1017         NaN         NaN  \n",
            "1018         NaN         NaN  \n",
            "\n",
            "[1019 rows x 56 columns]\n"
          ]
        }
      ],
      "source": [
        "import pandas as pd\n",
        "\n",
        "df = pd.read_excel (r'data.xlsx')\n",
        "print (df)"
      ]
    },
    {
      "cell_type": "code",
      "source": [
        "df.head(4)"
      ],
      "metadata": {
        "colab": {
          "base_uri": "https://localhost:8080/",
          "height": 389
        },
        "id": "rJ6kHMaQu-1U",
        "outputId": "3b04fb8d-070b-4cd5-e190-52bdd94fa418"
      },
      "execution_count": null,
      "outputs": [
        {
          "output_type": "execute_result",
          "data": {
            "text/plain": [
              "  Last Name First Name       Full name                 Type  \\\n",
              "0      Able       Joan       Joan Able  multiple-respondent   \n",
              "1      Able     Walter     Walter Able  multiple-respondent   \n",
              "2    Abston    William  William Abston           one-to-one   \n",
              "3      Abts       Dede       Dede Abts           one-to-one   \n",
              "\n",
              "  In Online Collection? Downloaded?  \\\n",
              "0                   Yes         Yes   \n",
              "1      [With Joan Able]         Yes   \n",
              "2                   Yes         Yes   \n",
              "3                   Yes         Yes   \n",
              "\n",
              "                                                Link             Notes  \\\n",
              "0  https://oralhistory.iu.edu/collections/123/col...  With Walter Able   \n",
              "1  https://oralhistory.iu.edu/collections/123/col...    With Joan Able   \n",
              "2  https://oralhistory.iu.edu/collections/123/col...               NaN   \n",
              "3  https://oralhistory.iu.edu/collections/123/col...               NaN   \n",
              "\n",
              "          Interviewer Interview Date  ... Unnamed: 46 Unnamed: 47  \\\n",
              "0  Akinbola, Benjamin     2014-06-12  ...         NaN         NaN   \n",
              "1  Akinbola, Benjamin     2014-06-12  ...         NaN         NaN   \n",
              "2    Townsend, Andrew     2018-01-24  ...         NaN         NaN   \n",
              "3  Truesdell, Barbara     2017-05-26  ...         NaN         NaN   \n",
              "\n",
              "   Unnamed: 48 Unnamed: 49 Unnamed: 50 Unnamed: 51 Unnamed: 52 Unnamed: 53  \\\n",
              "0          NaN         NaN         NaN         NaN         NaN         NaN   \n",
              "1          NaN         NaN         NaN         NaN         NaN         NaN   \n",
              "2          NaN         NaN         NaN         NaN         NaN         NaN   \n",
              "3          NaN         NaN         NaN         NaN         NaN         NaN   \n",
              "\n",
              "  Unnamed: 54 Unnamed: 55  \n",
              "0         NaN         NaN  \n",
              "1         NaN         NaN  \n",
              "2         NaN         NaN  \n",
              "3         NaN         NaN  \n",
              "\n",
              "[4 rows x 56 columns]"
            ],
            "text/html": [
              "\n",
              "  <div id=\"df-94c64ca1-f975-4ba4-9a2e-30133971796f\">\n",
              "    <div class=\"colab-df-container\">\n",
              "      <div>\n",
              "<style scoped>\n",
              "    .dataframe tbody tr th:only-of-type {\n",
              "        vertical-align: middle;\n",
              "    }\n",
              "\n",
              "    .dataframe tbody tr th {\n",
              "        vertical-align: top;\n",
              "    }\n",
              "\n",
              "    .dataframe thead th {\n",
              "        text-align: right;\n",
              "    }\n",
              "</style>\n",
              "<table border=\"1\" class=\"dataframe\">\n",
              "  <thead>\n",
              "    <tr style=\"text-align: right;\">\n",
              "      <th></th>\n",
              "      <th>Last Name</th>\n",
              "      <th>First Name</th>\n",
              "      <th>Full name</th>\n",
              "      <th>Type</th>\n",
              "      <th>In Online Collection?</th>\n",
              "      <th>Downloaded?</th>\n",
              "      <th>Link</th>\n",
              "      <th>Notes</th>\n",
              "      <th>Interviewer</th>\n",
              "      <th>Interview Date</th>\n",
              "      <th>...</th>\n",
              "      <th>Unnamed: 46</th>\n",
              "      <th>Unnamed: 47</th>\n",
              "      <th>Unnamed: 48</th>\n",
              "      <th>Unnamed: 49</th>\n",
              "      <th>Unnamed: 50</th>\n",
              "      <th>Unnamed: 51</th>\n",
              "      <th>Unnamed: 52</th>\n",
              "      <th>Unnamed: 53</th>\n",
              "      <th>Unnamed: 54</th>\n",
              "      <th>Unnamed: 55</th>\n",
              "    </tr>\n",
              "  </thead>\n",
              "  <tbody>\n",
              "    <tr>\n",
              "      <th>0</th>\n",
              "      <td>Able</td>\n",
              "      <td>Joan</td>\n",
              "      <td>Joan Able</td>\n",
              "      <td>multiple-respondent</td>\n",
              "      <td>Yes</td>\n",
              "      <td>Yes</td>\n",
              "      <td>https://oralhistory.iu.edu/collections/123/col...</td>\n",
              "      <td>With Walter Able</td>\n",
              "      <td>Akinbola, Benjamin</td>\n",
              "      <td>2014-06-12</td>\n",
              "      <td>...</td>\n",
              "      <td>NaN</td>\n",
              "      <td>NaN</td>\n",
              "      <td>NaN</td>\n",
              "      <td>NaN</td>\n",
              "      <td>NaN</td>\n",
              "      <td>NaN</td>\n",
              "      <td>NaN</td>\n",
              "      <td>NaN</td>\n",
              "      <td>NaN</td>\n",
              "      <td>NaN</td>\n",
              "    </tr>\n",
              "    <tr>\n",
              "      <th>1</th>\n",
              "      <td>Able</td>\n",
              "      <td>Walter</td>\n",
              "      <td>Walter Able</td>\n",
              "      <td>multiple-respondent</td>\n",
              "      <td>[With Joan Able]</td>\n",
              "      <td>Yes</td>\n",
              "      <td>https://oralhistory.iu.edu/collections/123/col...</td>\n",
              "      <td>With Joan Able</td>\n",
              "      <td>Akinbola, Benjamin</td>\n",
              "      <td>2014-06-12</td>\n",
              "      <td>...</td>\n",
              "      <td>NaN</td>\n",
              "      <td>NaN</td>\n",
              "      <td>NaN</td>\n",
              "      <td>NaN</td>\n",
              "      <td>NaN</td>\n",
              "      <td>NaN</td>\n",
              "      <td>NaN</td>\n",
              "      <td>NaN</td>\n",
              "      <td>NaN</td>\n",
              "      <td>NaN</td>\n",
              "    </tr>\n",
              "    <tr>\n",
              "      <th>2</th>\n",
              "      <td>Abston</td>\n",
              "      <td>William</td>\n",
              "      <td>William Abston</td>\n",
              "      <td>one-to-one</td>\n",
              "      <td>Yes</td>\n",
              "      <td>Yes</td>\n",
              "      <td>https://oralhistory.iu.edu/collections/123/col...</td>\n",
              "      <td>NaN</td>\n",
              "      <td>Townsend, Andrew</td>\n",
              "      <td>2018-01-24</td>\n",
              "      <td>...</td>\n",
              "      <td>NaN</td>\n",
              "      <td>NaN</td>\n",
              "      <td>NaN</td>\n",
              "      <td>NaN</td>\n",
              "      <td>NaN</td>\n",
              "      <td>NaN</td>\n",
              "      <td>NaN</td>\n",
              "      <td>NaN</td>\n",
              "      <td>NaN</td>\n",
              "      <td>NaN</td>\n",
              "    </tr>\n",
              "    <tr>\n",
              "      <th>3</th>\n",
              "      <td>Abts</td>\n",
              "      <td>Dede</td>\n",
              "      <td>Dede Abts</td>\n",
              "      <td>one-to-one</td>\n",
              "      <td>Yes</td>\n",
              "      <td>Yes</td>\n",
              "      <td>https://oralhistory.iu.edu/collections/123/col...</td>\n",
              "      <td>NaN</td>\n",
              "      <td>Truesdell, Barbara</td>\n",
              "      <td>2017-05-26</td>\n",
              "      <td>...</td>\n",
              "      <td>NaN</td>\n",
              "      <td>NaN</td>\n",
              "      <td>NaN</td>\n",
              "      <td>NaN</td>\n",
              "      <td>NaN</td>\n",
              "      <td>NaN</td>\n",
              "      <td>NaN</td>\n",
              "      <td>NaN</td>\n",
              "      <td>NaN</td>\n",
              "      <td>NaN</td>\n",
              "    </tr>\n",
              "  </tbody>\n",
              "</table>\n",
              "<p>4 rows × 56 columns</p>\n",
              "</div>\n",
              "      <button class=\"colab-df-convert\" onclick=\"convertToInteractive('df-94c64ca1-f975-4ba4-9a2e-30133971796f')\"\n",
              "              title=\"Convert this dataframe to an interactive table.\"\n",
              "              style=\"display:none;\">\n",
              "        \n",
              "  <svg xmlns=\"http://www.w3.org/2000/svg\" height=\"24px\"viewBox=\"0 0 24 24\"\n",
              "       width=\"24px\">\n",
              "    <path d=\"M0 0h24v24H0V0z\" fill=\"none\"/>\n",
              "    <path d=\"M18.56 5.44l.94 2.06.94-2.06 2.06-.94-2.06-.94-.94-2.06-.94 2.06-2.06.94zm-11 1L8.5 8.5l.94-2.06 2.06-.94-2.06-.94L8.5 2.5l-.94 2.06-2.06.94zm10 10l.94 2.06.94-2.06 2.06-.94-2.06-.94-.94-2.06-.94 2.06-2.06.94z\"/><path d=\"M17.41 7.96l-1.37-1.37c-.4-.4-.92-.59-1.43-.59-.52 0-1.04.2-1.43.59L10.3 9.45l-7.72 7.72c-.78.78-.78 2.05 0 2.83L4 21.41c.39.39.9.59 1.41.59.51 0 1.02-.2 1.41-.59l7.78-7.78 2.81-2.81c.8-.78.8-2.07 0-2.86zM5.41 20L4 18.59l7.72-7.72 1.47 1.35L5.41 20z\"/>\n",
              "  </svg>\n",
              "      </button>\n",
              "      \n",
              "  <style>\n",
              "    .colab-df-container {\n",
              "      display:flex;\n",
              "      flex-wrap:wrap;\n",
              "      gap: 12px;\n",
              "    }\n",
              "\n",
              "    .colab-df-convert {\n",
              "      background-color: #E8F0FE;\n",
              "      border: none;\n",
              "      border-radius: 50%;\n",
              "      cursor: pointer;\n",
              "      display: none;\n",
              "      fill: #1967D2;\n",
              "      height: 32px;\n",
              "      padding: 0 0 0 0;\n",
              "      width: 32px;\n",
              "    }\n",
              "\n",
              "    .colab-df-convert:hover {\n",
              "      background-color: #E2EBFA;\n",
              "      box-shadow: 0px 1px 2px rgba(60, 64, 67, 0.3), 0px 1px 3px 1px rgba(60, 64, 67, 0.15);\n",
              "      fill: #174EA6;\n",
              "    }\n",
              "\n",
              "    [theme=dark] .colab-df-convert {\n",
              "      background-color: #3B4455;\n",
              "      fill: #D2E3FC;\n",
              "    }\n",
              "\n",
              "    [theme=dark] .colab-df-convert:hover {\n",
              "      background-color: #434B5C;\n",
              "      box-shadow: 0px 1px 3px 1px rgba(0, 0, 0, 0.15);\n",
              "      filter: drop-shadow(0px 1px 2px rgba(0, 0, 0, 0.3));\n",
              "      fill: #FFFFFF;\n",
              "    }\n",
              "  </style>\n",
              "\n",
              "      <script>\n",
              "        const buttonEl =\n",
              "          document.querySelector('#df-94c64ca1-f975-4ba4-9a2e-30133971796f button.colab-df-convert');\n",
              "        buttonEl.style.display =\n",
              "          google.colab.kernel.accessAllowed ? 'block' : 'none';\n",
              "\n",
              "        async function convertToInteractive(key) {\n",
              "          const element = document.querySelector('#df-94c64ca1-f975-4ba4-9a2e-30133971796f');\n",
              "          const dataTable =\n",
              "            await google.colab.kernel.invokeFunction('convertToInteractive',\n",
              "                                                     [key], {});\n",
              "          if (!dataTable) return;\n",
              "\n",
              "          const docLinkHtml = 'Like what you see? Visit the ' +\n",
              "            '<a target=\"_blank\" href=https://colab.research.google.com/notebooks/data_table.ipynb>data table notebook</a>'\n",
              "            + ' to learn more about interactive tables.';\n",
              "          element.innerHTML = '';\n",
              "          dataTable['output_type'] = 'display_data';\n",
              "          await google.colab.output.renderOutput(dataTable, element);\n",
              "          const docLink = document.createElement('div');\n",
              "          docLink.innerHTML = docLinkHtml;\n",
              "          element.appendChild(docLink);\n",
              "        }\n",
              "      </script>\n",
              "    </div>\n",
              "  </div>\n",
              "  "
            ]
          },
          "metadata": {},
          "execution_count": 2
        }
      ]
    },
    {
      "cell_type": "code",
      "source": [
        "for col in df.columns:\n",
        "    print(col)"
      ],
      "metadata": {
        "colab": {
          "base_uri": "https://localhost:8080/"
        },
        "id": "jiQPBl7JvmBj",
        "outputId": "dfa04d26-bbbc-441e-9631-975cdd6e3804"
      },
      "execution_count": null,
      "outputs": [
        {
          "output_type": "stream",
          "name": "stdout",
          "text": [
            "Last Name\n",
            "First Name\n",
            "Full name\n",
            "Type\n",
            "In Online Collection?\n",
            "Downloaded?\n",
            "Link\n",
            "Notes\n",
            "Interviewer\n",
            "Interview Date\n",
            "Interview Campus\n",
            "IU Relation\n",
            "Joint Interview Second Person\n",
            "Interviewee Gender       (F, M, O)\n",
            "Grad/ Start Year\n",
            "Additional Grad Years\n",
            "Degree Info or Staff/Faculty Dept.\n",
            "Audio Quality\n",
            "Interview Length\n",
            "First Generation\n",
            "Mentions Greek Organizations \n",
            "Mentions Armed Forces or Armed Conflicts\n",
            "Mentions LGBTQA+ topics\n",
            "Mentions Race or Diversity\n",
            "Discusses Student Activism\n",
            "Discusses Campus Beauty\n",
            "Any interesting stories? Description + Pg #\n",
            "Summary\n",
            "Content Warning (description, page number)\n",
            "Upload Issue?\n",
            "Unnamed: 30\n",
            "Unnamed: 31\n",
            "Unnamed: 32\n",
            "Unnamed: 33\n",
            "Unnamed: 34\n",
            "Unnamed: 35\n",
            "Unnamed: 36\n",
            "Unnamed: 37\n",
            "Unnamed: 38\n",
            "Unnamed: 39\n",
            "Unnamed: 40\n",
            "Unnamed: 41\n",
            "Unnamed: 42\n",
            "Unnamed: 43\n",
            "Unnamed: 44\n",
            "Unnamed: 45\n",
            "Unnamed: 46\n",
            "Unnamed: 47\n",
            "Unnamed: 48\n",
            "Unnamed: 49\n",
            "Unnamed: 50\n",
            "Unnamed: 51\n",
            "Unnamed: 52\n",
            "Unnamed: 53\n",
            "Unnamed: 54\n",
            "Unnamed: 55\n"
          ]
        }
      ]
    },
    {
      "cell_type": "code",
      "source": [
        "df['First Generation'].unique()"
      ],
      "metadata": {
        "colab": {
          "base_uri": "https://localhost:8080/"
        },
        "id": "vU5gjJNvvqMJ",
        "outputId": "1985c868-783d-4292-b55a-c94fef99a34b"
      },
      "execution_count": null,
      "outputs": [
        {
          "output_type": "execute_result",
          "data": {
            "text/plain": [
              "array(['Unsure', 'No', 'Yes', nan, 'no', 'Y', 'Yes ', 'N', 'Unsure/Yes',\n",
              "       'Unknown', 'unsure', 'yes'], dtype=object)"
            ]
          },
          "metadata": {},
          "execution_count": 4
        }
      ]
    },
    {
      "cell_type": "code",
      "source": [
        "df['First Generation'] = df['First Generation'].fillna('0')"
      ],
      "metadata": {
        "id": "jGNYi-pgx4fk"
      },
      "execution_count": null,
      "outputs": []
    },
    {
      "cell_type": "code",
      "source": [
        "df['First Generation'].unique()"
      ],
      "metadata": {
        "colab": {
          "base_uri": "https://localhost:8080/"
        },
        "id": "IbIgSPuKyAnD",
        "outputId": "bfeaea30-5894-46ec-b519-dcb37150c41f"
      },
      "execution_count": null,
      "outputs": [
        {
          "output_type": "execute_result",
          "data": {
            "text/plain": [
              "array(['Unsure', 'No', 'Yes', '0', 'no', 'Y', 'Yes ', 'N', 'Unsure/Yes',\n",
              "       'Unknown', 'unsure', 'yes'], dtype=object)"
            ]
          },
          "metadata": {},
          "execution_count": 6
        }
      ]
    },
    {
      "cell_type": "code",
      "source": [
        "from numpy.lib.type_check import nan_to_num\n",
        "from numpy import NaN\n",
        "for i in range(len(df)):\n",
        "  #print(df['First Generation'][i])\n",
        "  if df['First Generation'][i]==None or df['First Generation'][i]== NaN:\n",
        "    df['First Generation'][i] = '0'\n",
        "  elif df['First Generation'][i].lower() == 'unsure' or df['First Generation'][i] == 'Unknown':\n",
        "    df['First Generation'][i] == '0' \n",
        "  elif 'y' in df['First Generation'][i]:\n",
        "    df['First Generation'][i]='y'\n",
        "  else:\n",
        "    df['First Generation'][i]='n'\n"
      ],
      "metadata": {
        "colab": {
          "base_uri": "https://localhost:8080/"
        },
        "id": "2YbiB3mEvNeL",
        "outputId": "c415bd02-3ee6-4c7c-f1f3-c131da6d41f6"
      },
      "execution_count": null,
      "outputs": [
        {
          "output_type": "stream",
          "name": "stderr",
          "text": [
            "/usr/local/lib/python3.7/dist-packages/ipykernel_launcher.py:12: SettingWithCopyWarning: \n",
            "A value is trying to be set on a copy of a slice from a DataFrame\n",
            "\n",
            "See the caveats in the documentation: https://pandas.pydata.org/pandas-docs/stable/user_guide/indexing.html#returning-a-view-versus-a-copy\n",
            "  if sys.path[0] == '':\n",
            "/usr/local/lib/python3.7/dist-packages/ipykernel_launcher.py:10: SettingWithCopyWarning: \n",
            "A value is trying to be set on a copy of a slice from a DataFrame\n",
            "\n",
            "See the caveats in the documentation: https://pandas.pydata.org/pandas-docs/stable/user_guide/indexing.html#returning-a-view-versus-a-copy\n",
            "  # Remove the CWD from sys.path while we load stuff.\n"
          ]
        }
      ]
    },
    {
      "cell_type": "code",
      "source": [
        "df['First Generation'].unique()"
      ],
      "metadata": {
        "colab": {
          "base_uri": "https://localhost:8080/"
        },
        "id": "iqvf9g7lyPVC",
        "outputId": "837ea69a-fd8e-4777-f956-60953f699a23"
      },
      "execution_count": null,
      "outputs": [
        {
          "output_type": "execute_result",
          "data": {
            "text/plain": [
              "array(['Unsure', 'n', 'Unknown', 'unsure', 'y'], dtype=object)"
            ]
          },
          "metadata": {},
          "execution_count": 8
        }
      ]
    },
    {
      "cell_type": "code",
      "source": [
        "for col in df.columns:\n",
        "    print(col)"
      ],
      "metadata": {
        "colab": {
          "base_uri": "https://localhost:8080/"
        },
        "id": "O7XG54qaykWi",
        "outputId": "36c5139e-13f3-4d74-ebdb-d5ba6f2eedfa"
      },
      "execution_count": null,
      "outputs": [
        {
          "output_type": "stream",
          "name": "stdout",
          "text": [
            "Last Name\n",
            "First Name\n",
            "Full name\n",
            "Type\n",
            "In Online Collection?\n",
            "Downloaded?\n",
            "Link\n",
            "Notes\n",
            "Interviewer\n",
            "Interview Date\n",
            "Interview Campus\n",
            "IU Relation\n",
            "Joint Interview Second Person\n",
            "Interviewee Gender       (F, M, O)\n",
            "Grad/ Start Year\n",
            "Additional Grad Years\n",
            "Degree Info or Staff/Faculty Dept.\n",
            "Audio Quality\n",
            "Interview Length\n",
            "First Generation\n",
            "Mentions Greek Organizations \n",
            "Mentions Armed Forces or Armed Conflicts\n",
            "Mentions LGBTQA+ topics\n",
            "Mentions Race or Diversity\n",
            "Discusses Student Activism\n",
            "Discusses Campus Beauty\n",
            "Any interesting stories? Description + Pg #\n",
            "Summary\n",
            "Content Warning (description, page number)\n",
            "Upload Issue?\n",
            "Unnamed: 30\n",
            "Unnamed: 31\n",
            "Unnamed: 32\n",
            "Unnamed: 33\n",
            "Unnamed: 34\n",
            "Unnamed: 35\n",
            "Unnamed: 36\n",
            "Unnamed: 37\n",
            "Unnamed: 38\n",
            "Unnamed: 39\n",
            "Unnamed: 40\n",
            "Unnamed: 41\n",
            "Unnamed: 42\n",
            "Unnamed: 43\n",
            "Unnamed: 44\n",
            "Unnamed: 45\n",
            "Unnamed: 46\n",
            "Unnamed: 47\n",
            "Unnamed: 48\n",
            "Unnamed: 49\n",
            "Unnamed: 50\n",
            "Unnamed: 51\n",
            "Unnamed: 52\n",
            "Unnamed: 53\n",
            "Unnamed: 54\n",
            "Unnamed: 55\n"
          ]
        }
      ]
    },
    {
      "cell_type": "code",
      "source": [
        "df['Mentions Greek Organizations '].unique()\n",
        "df['Mentions Greek Organizations '] = df['Mentions Greek Organizations '].fillna('0')\n",
        "df['Mentions Greek Organizations '].unique()"
      ],
      "metadata": {
        "colab": {
          "base_uri": "https://localhost:8080/"
        },
        "id": "Qo6OB-l9vXAq",
        "outputId": "7b437a9d-8fdb-4e7e-dee3-43658b84cc5b"
      },
      "execution_count": null,
      "outputs": [
        {
          "output_type": "execute_result",
          "data": {
            "text/plain": [
              "array(['Yes', 'No', '0', 'no', 'Kind of ( Nursing Honor Society) ', 'N',\n",
              "       'Y', 'yes'], dtype=object)"
            ]
          },
          "metadata": {},
          "execution_count": 10
        }
      ]
    },
    {
      "cell_type": "code",
      "source": [
        "def play_y_n(st):\n",
        "  for i in range(len(df)):\n",
        "    stri = str(df[st][i]).lower()\n",
        "    if stri == 'y' or stri =='yes':\n",
        "      df[st][i] = 'y'\n",
        "    elif stri == 'n' or stri =='no':\n",
        "      df[st][i] = 'n'\n",
        "  #print(df[st].unique())"
      ],
      "metadata": {
        "id": "Y07L_S5f0GdL"
      },
      "execution_count": null,
      "outputs": []
    },
    {
      "cell_type": "code",
      "source": [
        "play_y_n('Mentions Greek Organizations ')"
      ],
      "metadata": {
        "colab": {
          "base_uri": "https://localhost:8080/"
        },
        "id": "kViEPOgF0rvK",
        "outputId": "bc09ad4c-5759-4226-b7d8-0635a8e4bfdf"
      },
      "execution_count": null,
      "outputs": [
        {
          "output_type": "stream",
          "name": "stderr",
          "text": [
            "/usr/local/lib/python3.7/dist-packages/ipykernel_launcher.py:5: SettingWithCopyWarning: \n",
            "A value is trying to be set on a copy of a slice from a DataFrame\n",
            "\n",
            "See the caveats in the documentation: https://pandas.pydata.org/pandas-docs/stable/user_guide/indexing.html#returning-a-view-versus-a-copy\n",
            "  \"\"\"\n",
            "/usr/local/lib/python3.7/dist-packages/ipykernel_launcher.py:7: SettingWithCopyWarning: \n",
            "A value is trying to be set on a copy of a slice from a DataFrame\n",
            "\n",
            "See the caveats in the documentation: https://pandas.pydata.org/pandas-docs/stable/user_guide/indexing.html#returning-a-view-versus-a-copy\n",
            "  import sys\n"
          ]
        }
      ]
    },
    {
      "cell_type": "code",
      "source": [
        "df['Mentions Greek Organizations '].unique()"
      ],
      "metadata": {
        "colab": {
          "base_uri": "https://localhost:8080/"
        },
        "id": "RtbtYK2u0vij",
        "outputId": "85528646-2ed4-4831-c746-6675d613301e"
      },
      "execution_count": null,
      "outputs": [
        {
          "output_type": "execute_result",
          "data": {
            "text/plain": [
              "array(['y', 'n', '0', 'Kind of ( Nursing Honor Society) '], dtype=object)"
            ]
          },
          "metadata": {},
          "execution_count": 13
        }
      ]
    },
    {
      "cell_type": "code",
      "source": [
        "def replace_na(st):\n",
        "  print(\"before \", df[st].unique())\n",
        "  df[st] = df[st].fillna('0')\n",
        "  print(\"after \",df[st].unique())"
      ],
      "metadata": {
        "id": "6sQtTpHOzB0y"
      },
      "execution_count": null,
      "outputs": []
    },
    {
      "cell_type": "code",
      "source": [
        "replace_na('First Generation')"
      ],
      "metadata": {
        "colab": {
          "base_uri": "https://localhost:8080/"
        },
        "id": "HI3HKqxNzVJq",
        "outputId": "fb66d7b1-ffda-4668-d9bb-a6cad4a73cd9"
      },
      "execution_count": null,
      "outputs": [
        {
          "output_type": "stream",
          "name": "stdout",
          "text": [
            "before  ['Unsure' 'n' 'Unknown' 'unsure' 'y']\n",
            "after  ['Unsure' 'n' 'Unknown' 'unsure' 'y']\n"
          ]
        }
      ]
    },
    {
      "cell_type": "code",
      "source": [
        "play_y_n('First Generation')\n",
        "df['First Generation'].unique()"
      ],
      "metadata": {
        "colab": {
          "base_uri": "https://localhost:8080/"
        },
        "id": "PQCNll-S1Vur",
        "outputId": "2bdd3148-d467-435b-84d5-ba8fc88c74fe"
      },
      "execution_count": null,
      "outputs": [
        {
          "output_type": "stream",
          "name": "stderr",
          "text": [
            "/usr/local/lib/python3.7/dist-packages/ipykernel_launcher.py:7: SettingWithCopyWarning: \n",
            "A value is trying to be set on a copy of a slice from a DataFrame\n",
            "\n",
            "See the caveats in the documentation: https://pandas.pydata.org/pandas-docs/stable/user_guide/indexing.html#returning-a-view-versus-a-copy\n",
            "  import sys\n",
            "/usr/local/lib/python3.7/dist-packages/ipykernel_launcher.py:5: SettingWithCopyWarning: \n",
            "A value is trying to be set on a copy of a slice from a DataFrame\n",
            "\n",
            "See the caveats in the documentation: https://pandas.pydata.org/pandas-docs/stable/user_guide/indexing.html#returning-a-view-versus-a-copy\n",
            "  \"\"\"\n"
          ]
        },
        {
          "output_type": "execute_result",
          "data": {
            "text/plain": [
              "array(['Unsure', 'n', 'Unknown', 'unsure', 'y'], dtype=object)"
            ]
          },
          "metadata": {},
          "execution_count": 16
        }
      ]
    },
    {
      "cell_type": "code",
      "source": [
        "replace_na('Mentions Armed Forces or Armed Conflicts')"
      ],
      "metadata": {
        "colab": {
          "base_uri": "https://localhost:8080/"
        },
        "id": "H2jAnfuhzecj",
        "outputId": "b4f42f3b-fa8d-4ddd-dd55-8a6325d2bb7b"
      },
      "execution_count": null,
      "outputs": [
        {
          "output_type": "stream",
          "name": "stdout",
          "text": [
            "before  ['Yes' 'No' 'yes' nan 'no' 'No\\xa0' 'Yes ' 'N' 'Y']\n",
            "after  ['Yes' 'No' 'yes' '0' 'no' 'No\\xa0' 'Yes ' 'N' 'Y']\n"
          ]
        }
      ]
    },
    {
      "cell_type": "code",
      "source": [
        "play_y_n('Mentions Armed Forces or Armed Conflicts')\n",
        "df['Mentions Armed Forces or Armed Conflicts'].unique()"
      ],
      "metadata": {
        "colab": {
          "base_uri": "https://localhost:8080/"
        },
        "id": "TF2IYyYa1dcq",
        "outputId": "79fa709e-371b-403e-d4b5-75a45ec0c633"
      },
      "execution_count": null,
      "outputs": [
        {
          "output_type": "stream",
          "name": "stderr",
          "text": [
            "/usr/local/lib/python3.7/dist-packages/ipykernel_launcher.py:5: SettingWithCopyWarning: \n",
            "A value is trying to be set on a copy of a slice from a DataFrame\n",
            "\n",
            "See the caveats in the documentation: https://pandas.pydata.org/pandas-docs/stable/user_guide/indexing.html#returning-a-view-versus-a-copy\n",
            "  \"\"\"\n",
            "/usr/local/lib/python3.7/dist-packages/ipykernel_launcher.py:7: SettingWithCopyWarning: \n",
            "A value is trying to be set on a copy of a slice from a DataFrame\n",
            "\n",
            "See the caveats in the documentation: https://pandas.pydata.org/pandas-docs/stable/user_guide/indexing.html#returning-a-view-versus-a-copy\n",
            "  import sys\n"
          ]
        },
        {
          "output_type": "execute_result",
          "data": {
            "text/plain": [
              "array(['y', 'n', '0', 'No\\xa0', 'Yes '], dtype=object)"
            ]
          },
          "metadata": {},
          "execution_count": 18
        }
      ]
    },
    {
      "cell_type": "code",
      "source": [
        "replace_na('Mentions LGBTQA+ topics')"
      ],
      "metadata": {
        "colab": {
          "base_uri": "https://localhost:8080/"
        },
        "id": "LZKBhxVWzoH6",
        "outputId": "f58758b3-23ac-493c-d2bf-8d12dd3224f2"
      },
      "execution_count": null,
      "outputs": [
        {
          "output_type": "stream",
          "name": "stdout",
          "text": [
            "before  ['No' nan 'Yes' 'no' 'no, but discusses gendered pronouns' 'yes' 'Y' 'N']\n",
            "after  ['No' '0' 'Yes' 'no' 'no, but discusses gendered pronouns' 'yes' 'Y' 'N']\n"
          ]
        }
      ]
    },
    {
      "cell_type": "code",
      "source": [
        "play_y_n('Mentions LGBTQA+ topics')\n",
        "df['Mentions LGBTQA+ topics'].unique()"
      ],
      "metadata": {
        "colab": {
          "base_uri": "https://localhost:8080/"
        },
        "id": "b0A1cWS81mrz",
        "outputId": "fb6114d6-3055-4c80-b628-fc5b02a0739c"
      },
      "execution_count": null,
      "outputs": [
        {
          "output_type": "stream",
          "name": "stderr",
          "text": [
            "/usr/local/lib/python3.7/dist-packages/ipykernel_launcher.py:7: SettingWithCopyWarning: \n",
            "A value is trying to be set on a copy of a slice from a DataFrame\n",
            "\n",
            "See the caveats in the documentation: https://pandas.pydata.org/pandas-docs/stable/user_guide/indexing.html#returning-a-view-versus-a-copy\n",
            "  import sys\n",
            "/usr/local/lib/python3.7/dist-packages/ipykernel_launcher.py:5: SettingWithCopyWarning: \n",
            "A value is trying to be set on a copy of a slice from a DataFrame\n",
            "\n",
            "See the caveats in the documentation: https://pandas.pydata.org/pandas-docs/stable/user_guide/indexing.html#returning-a-view-versus-a-copy\n",
            "  \"\"\"\n"
          ]
        },
        {
          "output_type": "execute_result",
          "data": {
            "text/plain": [
              "array(['n', '0', 'y', 'no, but discusses gendered pronouns'], dtype=object)"
            ]
          },
          "metadata": {},
          "execution_count": 20
        }
      ]
    },
    {
      "cell_type": "code",
      "source": [
        "replace_na('Mentions Race or Diversity')"
      ],
      "metadata": {
        "colab": {
          "base_uri": "https://localhost:8080/"
        },
        "id": "qgPDpGDNzt-L",
        "outputId": "1f6d4888-9695-4aa8-fd5e-3fa5e2041c8f"
      },
      "execution_count": null,
      "outputs": [
        {
          "output_type": "stream",
          "name": "stdout",
          "text": [
            "before  ['No' 'Yes' nan 'yes' 'no' 'Y' 'N']\n",
            "after  ['No' 'Yes' '0' 'yes' 'no' 'Y' 'N']\n"
          ]
        }
      ]
    },
    {
      "cell_type": "code",
      "source": [
        "play_y_n('Mentions Race or Diversity')\n",
        "df['Mentions Race or Diversity'].unique()"
      ],
      "metadata": {
        "colab": {
          "base_uri": "https://localhost:8080/"
        },
        "id": "RJ1Tcnw81uQx",
        "outputId": "a163fd38-9dd1-49fe-90c1-669a453d167d"
      },
      "execution_count": null,
      "outputs": [
        {
          "output_type": "stream",
          "name": "stderr",
          "text": [
            "/usr/local/lib/python3.7/dist-packages/ipykernel_launcher.py:7: SettingWithCopyWarning: \n",
            "A value is trying to be set on a copy of a slice from a DataFrame\n",
            "\n",
            "See the caveats in the documentation: https://pandas.pydata.org/pandas-docs/stable/user_guide/indexing.html#returning-a-view-versus-a-copy\n",
            "  import sys\n",
            "/usr/local/lib/python3.7/dist-packages/ipykernel_launcher.py:5: SettingWithCopyWarning: \n",
            "A value is trying to be set on a copy of a slice from a DataFrame\n",
            "\n",
            "See the caveats in the documentation: https://pandas.pydata.org/pandas-docs/stable/user_guide/indexing.html#returning-a-view-versus-a-copy\n",
            "  \"\"\"\n"
          ]
        },
        {
          "output_type": "execute_result",
          "data": {
            "text/plain": [
              "array(['n', 'y', '0'], dtype=object)"
            ]
          },
          "metadata": {},
          "execution_count": 22
        }
      ]
    },
    {
      "cell_type": "code",
      "source": [
        "replace_na('Discusses Student Activism')"
      ],
      "metadata": {
        "colab": {
          "base_uri": "https://localhost:8080/"
        },
        "id": "hXNX6SlUzzN8",
        "outputId": "b10b0b3e-f61f-4c18-b539-86508a5bf455"
      },
      "execution_count": null,
      "outputs": [
        {
          "output_type": "stream",
          "name": "stdout",
          "text": [
            "before  ['No' 'Yes' nan 'no' 'Y' 'yes' 'N']\n",
            "after  ['No' 'Yes' '0' 'no' 'Y' 'yes' 'N']\n"
          ]
        }
      ]
    },
    {
      "cell_type": "code",
      "source": [
        "play_y_n('Discusses Student Activism')\n",
        "df['Discusses Student Activism'].unique()"
      ],
      "metadata": {
        "colab": {
          "base_uri": "https://localhost:8080/"
        },
        "id": "eahxMIR31z20",
        "outputId": "d15e71d1-0d22-4268-c647-c336ef7c4d76"
      },
      "execution_count": null,
      "outputs": [
        {
          "output_type": "stream",
          "name": "stderr",
          "text": [
            "/usr/local/lib/python3.7/dist-packages/ipykernel_launcher.py:7: SettingWithCopyWarning: \n",
            "A value is trying to be set on a copy of a slice from a DataFrame\n",
            "\n",
            "See the caveats in the documentation: https://pandas.pydata.org/pandas-docs/stable/user_guide/indexing.html#returning-a-view-versus-a-copy\n",
            "  import sys\n",
            "/usr/local/lib/python3.7/dist-packages/ipykernel_launcher.py:5: SettingWithCopyWarning: \n",
            "A value is trying to be set on a copy of a slice from a DataFrame\n",
            "\n",
            "See the caveats in the documentation: https://pandas.pydata.org/pandas-docs/stable/user_guide/indexing.html#returning-a-view-versus-a-copy\n",
            "  \"\"\"\n"
          ]
        },
        {
          "output_type": "execute_result",
          "data": {
            "text/plain": [
              "array(['n', 'y', '0'], dtype=object)"
            ]
          },
          "metadata": {},
          "execution_count": 24
        }
      ]
    },
    {
      "cell_type": "code",
      "source": [
        "replace_na('Discusses Campus Beauty')"
      ],
      "metadata": {
        "colab": {
          "base_uri": "https://localhost:8080/"
        },
        "id": "Zgy2PJr_z2tH",
        "outputId": "0298c463-49ed-4759-e324-06cb9b355173"
      },
      "execution_count": null,
      "outputs": [
        {
          "output_type": "stream",
          "name": "stdout",
          "text": [
            "before  ['No' nan 'Yes' 'yes' 'no' 'Y' 'N'\n",
            " 'p. 5 discusses doing research on opportunistic infections in AIDs patients in early eighties'\n",
            " ' No']\n",
            "after  ['No' '0' 'Yes' 'yes' 'no' 'Y' 'N'\n",
            " 'p. 5 discusses doing research on opportunistic infections in AIDs patients in early eighties'\n",
            " ' No']\n"
          ]
        }
      ]
    },
    {
      "cell_type": "code",
      "source": [
        "play_y_n('Discusses Campus Beauty')\n",
        "df['Discusses Campus Beauty'].unique()"
      ],
      "metadata": {
        "colab": {
          "base_uri": "https://localhost:8080/"
        },
        "id": "Y0F2X84L14XW",
        "outputId": "dd7bcb98-779a-4506-a408-6efe11a63089"
      },
      "execution_count": null,
      "outputs": [
        {
          "output_type": "stream",
          "name": "stderr",
          "text": [
            "/usr/local/lib/python3.7/dist-packages/ipykernel_launcher.py:7: SettingWithCopyWarning: \n",
            "A value is trying to be set on a copy of a slice from a DataFrame\n",
            "\n",
            "See the caveats in the documentation: https://pandas.pydata.org/pandas-docs/stable/user_guide/indexing.html#returning-a-view-versus-a-copy\n",
            "  import sys\n",
            "/usr/local/lib/python3.7/dist-packages/ipykernel_launcher.py:5: SettingWithCopyWarning: \n",
            "A value is trying to be set on a copy of a slice from a DataFrame\n",
            "\n",
            "See the caveats in the documentation: https://pandas.pydata.org/pandas-docs/stable/user_guide/indexing.html#returning-a-view-versus-a-copy\n",
            "  \"\"\"\n"
          ]
        },
        {
          "output_type": "execute_result",
          "data": {
            "text/plain": [
              "array(['n', '0', 'y',\n",
              "       'p. 5 discusses doing research on opportunistic infections in AIDs patients in early eighties',\n",
              "       ' No'], dtype=object)"
            ]
          },
          "metadata": {},
          "execution_count": 26
        }
      ]
    },
    {
      "cell_type": "code",
      "source": [
        "sub_df = df[['Discusses Campus Beauty','Discusses Student Activism','Mentions Race or Diversity','Mentions LGBTQA+ topics','Mentions Armed Forces or Armed Conflicts','First Generation','Mentions Greek Organizations ']]"
      ],
      "metadata": {
        "id": "VEI056BN2aN1"
      },
      "execution_count": null,
      "outputs": []
    },
    {
      "cell_type": "code",
      "source": [
        "sub_df = sub_df.head()"
      ],
      "metadata": {
        "id": "kZnE0pXc20dl"
      },
      "execution_count": null,
      "outputs": []
    },
    {
      "cell_type": "code",
      "source": [
        "sub_df = sub_df.replace(' No','n')"
      ],
      "metadata": {
        "id": "KxEk0uzK25sC"
      },
      "execution_count": null,
      "outputs": []
    },
    {
      "cell_type": "code",
      "source": [
        "sub_df = sub_df.replace('no, but discusses gendered pronouns','n')"
      ],
      "metadata": {
        "id": "7VZ5B-p-3feU"
      },
      "execution_count": null,
      "outputs": []
    },
    {
      "cell_type": "code",
      "source": [
        "sub_df = sub_df.replace('Yes ','y')\n",
        "sub_df = sub_df.replace('No\\xa0','n')"
      ],
      "metadata": {
        "id": "FV8HKLRJ3uEb"
      },
      "execution_count": null,
      "outputs": []
    },
    {
      "cell_type": "code",
      "source": [
        "sub_df = sub_df.replace('Unsure','0')"
      ],
      "metadata": {
        "id": "LJ5MSN9r4Dbr"
      },
      "execution_count": null,
      "outputs": []
    },
    {
      "cell_type": "code",
      "source": [
        "sub_df = sub_df.replace('Unknown','0')\n",
        "sub_df = sub_df.replace('unsure','0')"
      ],
      "metadata": {
        "id": "1MyTLf_f4JX1"
      },
      "execution_count": null,
      "outputs": []
    },
    {
      "cell_type": "code",
      "source": [
        "sub_df.nunique()"
      ],
      "metadata": {
        "colab": {
          "base_uri": "https://localhost:8080/"
        },
        "id": "Omx10ij24XED",
        "outputId": "04cb8e02-ec79-4a54-a7e0-2db6c9a51b3d"
      },
      "execution_count": null,
      "outputs": [
        {
          "output_type": "execute_result",
          "data": {
            "text/plain": [
              "Discusses Campus Beauty                     1\n",
              "Discusses Student Activism                  2\n",
              "Mentions Race or Diversity                  2\n",
              "Mentions LGBTQA+ topics                     1\n",
              "Mentions Armed Forces or Armed Conflicts    2\n",
              "First Generation                            2\n",
              "Mentions Greek Organizations                2\n",
              "dtype: int64"
            ]
          },
          "metadata": {},
          "execution_count": 34
        }
      ]
    },
    {
      "cell_type": "code",
      "source": [
        "sub_df['Mentions LGBTQA+ topics'] = df['Mentions LGBTQA+ topics']"
      ],
      "metadata": {
        "id": "Dre7GI9Q4wM3"
      },
      "execution_count": null,
      "outputs": []
    },
    {
      "cell_type": "code",
      "source": [
        "sub_df['Discusses Campus Beauty'] = df['Discusses Campus Beauty']"
      ],
      "metadata": {
        "id": "ysm19Mru5lF5"
      },
      "execution_count": null,
      "outputs": []
    },
    {
      "cell_type": "code",
      "source": [
        "sub_df = sub_df.drop(columns=['Discusses Campus Beauty', 'Mentions LGBTQA+ topics'])"
      ],
      "metadata": {
        "id": "eAACafmi5vJ3"
      },
      "execution_count": null,
      "outputs": []
    },
    {
      "cell_type": "code",
      "source": [
        "sub_df.nunique()"
      ],
      "metadata": {
        "colab": {
          "base_uri": "https://localhost:8080/"
        },
        "id": "EWZzGxoo6hcr",
        "outputId": "0ae07762-da78-4cc5-a90b-64366f86c0ea"
      },
      "execution_count": null,
      "outputs": [
        {
          "output_type": "execute_result",
          "data": {
            "text/plain": [
              "Discusses Student Activism                  2\n",
              "Mentions Race or Diversity                  2\n",
              "Mentions Armed Forces or Armed Conflicts    2\n",
              "First Generation                            2\n",
              "Mentions Greek Organizations                2\n",
              "dtype: int64"
            ]
          },
          "metadata": {},
          "execution_count": 38
        }
      ]
    },
    {
      "cell_type": "code",
      "source": [
        "sub_df = sub_df.replace(['y','n'],[1,0])"
      ],
      "metadata": {
        "id": "F8tIIfkr6fXE"
      },
      "execution_count": null,
      "outputs": []
    },
    {
      "cell_type": "code",
      "source": [
        "sub_df.nunique()"
      ],
      "metadata": {
        "colab": {
          "base_uri": "https://localhost:8080/"
        },
        "id": "6utKw1ry69g0",
        "outputId": "8bd81422-bafc-4f62-b24d-f52d76db47f1"
      },
      "execution_count": null,
      "outputs": [
        {
          "output_type": "execute_result",
          "data": {
            "text/plain": [
              "Discusses Student Activism                  2\n",
              "Mentions Race or Diversity                  2\n",
              "Mentions Armed Forces or Armed Conflicts    2\n",
              "First Generation                            2\n",
              "Mentions Greek Organizations                2\n",
              "dtype: int64"
            ]
          },
          "metadata": {},
          "execution_count": 40
        }
      ]
    },
    {
      "cell_type": "code",
      "source": [
        "sub_df.head()"
      ],
      "metadata": {
        "colab": {
          "base_uri": "https://localhost:8080/",
          "height": 206
        },
        "id": "8SaPv8rV6TuQ",
        "outputId": "587d0db6-e648-45b8-de5a-a472d8e784e5"
      },
      "execution_count": null,
      "outputs": [
        {
          "output_type": "execute_result",
          "data": {
            "text/plain": [
              "   Discusses Student Activism  Mentions Race or Diversity  \\\n",
              "0                           0                           0   \n",
              "1                           0                           0   \n",
              "2                           0                           0   \n",
              "3                           1                           1   \n",
              "4                           0                           1   \n",
              "\n",
              "   Mentions Armed Forces or Armed Conflicts First Generation  \\\n",
              "0                                         1                0   \n",
              "1                                         1                0   \n",
              "2                                         0                0   \n",
              "3                                         1                0   \n",
              "4                                         0                0   \n",
              "\n",
              "   Mentions Greek Organizations   \n",
              "0                              1  \n",
              "1                              0  \n",
              "2                              1  \n",
              "3                              1  \n",
              "4                              0  "
            ],
            "text/html": [
              "\n",
              "  <div id=\"df-d38da626-2562-4b5e-a3d6-d78643b4463b\">\n",
              "    <div class=\"colab-df-container\">\n",
              "      <div>\n",
              "<style scoped>\n",
              "    .dataframe tbody tr th:only-of-type {\n",
              "        vertical-align: middle;\n",
              "    }\n",
              "\n",
              "    .dataframe tbody tr th {\n",
              "        vertical-align: top;\n",
              "    }\n",
              "\n",
              "    .dataframe thead th {\n",
              "        text-align: right;\n",
              "    }\n",
              "</style>\n",
              "<table border=\"1\" class=\"dataframe\">\n",
              "  <thead>\n",
              "    <tr style=\"text-align: right;\">\n",
              "      <th></th>\n",
              "      <th>Discusses Student Activism</th>\n",
              "      <th>Mentions Race or Diversity</th>\n",
              "      <th>Mentions Armed Forces or Armed Conflicts</th>\n",
              "      <th>First Generation</th>\n",
              "      <th>Mentions Greek Organizations</th>\n",
              "    </tr>\n",
              "  </thead>\n",
              "  <tbody>\n",
              "    <tr>\n",
              "      <th>0</th>\n",
              "      <td>0</td>\n",
              "      <td>0</td>\n",
              "      <td>1</td>\n",
              "      <td>0</td>\n",
              "      <td>1</td>\n",
              "    </tr>\n",
              "    <tr>\n",
              "      <th>1</th>\n",
              "      <td>0</td>\n",
              "      <td>0</td>\n",
              "      <td>1</td>\n",
              "      <td>0</td>\n",
              "      <td>0</td>\n",
              "    </tr>\n",
              "    <tr>\n",
              "      <th>2</th>\n",
              "      <td>0</td>\n",
              "      <td>0</td>\n",
              "      <td>0</td>\n",
              "      <td>0</td>\n",
              "      <td>1</td>\n",
              "    </tr>\n",
              "    <tr>\n",
              "      <th>3</th>\n",
              "      <td>1</td>\n",
              "      <td>1</td>\n",
              "      <td>1</td>\n",
              "      <td>0</td>\n",
              "      <td>1</td>\n",
              "    </tr>\n",
              "    <tr>\n",
              "      <th>4</th>\n",
              "      <td>0</td>\n",
              "      <td>1</td>\n",
              "      <td>0</td>\n",
              "      <td>0</td>\n",
              "      <td>0</td>\n",
              "    </tr>\n",
              "  </tbody>\n",
              "</table>\n",
              "</div>\n",
              "      <button class=\"colab-df-convert\" onclick=\"convertToInteractive('df-d38da626-2562-4b5e-a3d6-d78643b4463b')\"\n",
              "              title=\"Convert this dataframe to an interactive table.\"\n",
              "              style=\"display:none;\">\n",
              "        \n",
              "  <svg xmlns=\"http://www.w3.org/2000/svg\" height=\"24px\"viewBox=\"0 0 24 24\"\n",
              "       width=\"24px\">\n",
              "    <path d=\"M0 0h24v24H0V0z\" fill=\"none\"/>\n",
              "    <path d=\"M18.56 5.44l.94 2.06.94-2.06 2.06-.94-2.06-.94-.94-2.06-.94 2.06-2.06.94zm-11 1L8.5 8.5l.94-2.06 2.06-.94-2.06-.94L8.5 2.5l-.94 2.06-2.06.94zm10 10l.94 2.06.94-2.06 2.06-.94-2.06-.94-.94-2.06-.94 2.06-2.06.94z\"/><path d=\"M17.41 7.96l-1.37-1.37c-.4-.4-.92-.59-1.43-.59-.52 0-1.04.2-1.43.59L10.3 9.45l-7.72 7.72c-.78.78-.78 2.05 0 2.83L4 21.41c.39.39.9.59 1.41.59.51 0 1.02-.2 1.41-.59l7.78-7.78 2.81-2.81c.8-.78.8-2.07 0-2.86zM5.41 20L4 18.59l7.72-7.72 1.47 1.35L5.41 20z\"/>\n",
              "  </svg>\n",
              "      </button>\n",
              "      \n",
              "  <style>\n",
              "    .colab-df-container {\n",
              "      display:flex;\n",
              "      flex-wrap:wrap;\n",
              "      gap: 12px;\n",
              "    }\n",
              "\n",
              "    .colab-df-convert {\n",
              "      background-color: #E8F0FE;\n",
              "      border: none;\n",
              "      border-radius: 50%;\n",
              "      cursor: pointer;\n",
              "      display: none;\n",
              "      fill: #1967D2;\n",
              "      height: 32px;\n",
              "      padding: 0 0 0 0;\n",
              "      width: 32px;\n",
              "    }\n",
              "\n",
              "    .colab-df-convert:hover {\n",
              "      background-color: #E2EBFA;\n",
              "      box-shadow: 0px 1px 2px rgba(60, 64, 67, 0.3), 0px 1px 3px 1px rgba(60, 64, 67, 0.15);\n",
              "      fill: #174EA6;\n",
              "    }\n",
              "\n",
              "    [theme=dark] .colab-df-convert {\n",
              "      background-color: #3B4455;\n",
              "      fill: #D2E3FC;\n",
              "    }\n",
              "\n",
              "    [theme=dark] .colab-df-convert:hover {\n",
              "      background-color: #434B5C;\n",
              "      box-shadow: 0px 1px 3px 1px rgba(0, 0, 0, 0.15);\n",
              "      filter: drop-shadow(0px 1px 2px rgba(0, 0, 0, 0.3));\n",
              "      fill: #FFFFFF;\n",
              "    }\n",
              "  </style>\n",
              "\n",
              "      <script>\n",
              "        const buttonEl =\n",
              "          document.querySelector('#df-d38da626-2562-4b5e-a3d6-d78643b4463b button.colab-df-convert');\n",
              "        buttonEl.style.display =\n",
              "          google.colab.kernel.accessAllowed ? 'block' : 'none';\n",
              "\n",
              "        async function convertToInteractive(key) {\n",
              "          const element = document.querySelector('#df-d38da626-2562-4b5e-a3d6-d78643b4463b');\n",
              "          const dataTable =\n",
              "            await google.colab.kernel.invokeFunction('convertToInteractive',\n",
              "                                                     [key], {});\n",
              "          if (!dataTable) return;\n",
              "\n",
              "          const docLinkHtml = 'Like what you see? Visit the ' +\n",
              "            '<a target=\"_blank\" href=https://colab.research.google.com/notebooks/data_table.ipynb>data table notebook</a>'\n",
              "            + ' to learn more about interactive tables.';\n",
              "          element.innerHTML = '';\n",
              "          dataTable['output_type'] = 'display_data';\n",
              "          await google.colab.output.renderOutput(dataTable, element);\n",
              "          const docLink = document.createElement('div');\n",
              "          docLink.innerHTML = docLinkHtml;\n",
              "          element.appendChild(docLink);\n",
              "        }\n",
              "      </script>\n",
              "    </div>\n",
              "  </div>\n",
              "  "
            ]
          },
          "metadata": {},
          "execution_count": 41
        }
      ]
    },
    {
      "cell_type": "code",
      "source": [
        "import pandas as pd\n",
        "import seaborn as sn\n",
        "import matplotlib.pyplot as plt\n",
        "\n",
        "corrMatrix = sub_df.corr()\n",
        "sn.heatmap(corrMatrix, annot=True)\n",
        "plt.show()"
      ],
      "metadata": {
        "colab": {
          "base_uri": "https://localhost:8080/",
          "height": 472
        },
        "id": "iPUlW1OB18rq",
        "outputId": "624b7f0b-34a0-43eb-f7d8-60f1297fff0c"
      },
      "execution_count": null,
      "outputs": [
        {
          "output_type": "display_data",
          "data": {
            "text/plain": [
              "<Figure size 432x288 with 2 Axes>"
            ],
            "image/png": "[encoded data removed]"
          },
          "metadata": {
            "needs_background": "light"
          }
        }
      ]
    }
  ]
}